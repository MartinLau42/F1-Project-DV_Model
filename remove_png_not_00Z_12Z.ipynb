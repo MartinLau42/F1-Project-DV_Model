{
 "cells": [
  {
   "cell_type": "code",
   "execution_count": null,
   "id": "48f98288",
   "metadata": {},
   "outputs": [],
   "source": [
    "import os"
   ]
  },
  {
   "cell_type": "code",
   "execution_count": null,
   "id": "65a5f450",
   "metadata": {},
   "outputs": [],
   "source": [
    "# filename format : tephi-KPUpper_yyyymmdd00.png or tephi-KPUpper_yyyymmdd12.png\n",
    "def remove_png_not_00Z_12Z(target_dir):\n",
    "    png_files = sorted(os.listdir(target_dir))\n",
    "    png_files = [f for f in png_files if f.endswith('.png')]\n",
    "    unknown = [f for f in png_files if (f.split('.')[-2][-2:] != '00') & (f.split('.')[-2][-2:] != '12')]\n",
    "    print('Number of png which is not 00Z or 12Z : %s' % len(unknown))\n",
    "    \n",
    "    for i in unknown:\n",
    "        os.remove(os.path.join(target_dir, i))"
   ]
  },
  {
   "cell_type": "code",
   "execution_count": null,
   "id": "e0d5532b",
   "metadata": {},
   "outputs": [],
   "source": []
  }
 ],
 "metadata": {
  "kernelspec": {
   "display_name": "Python 3",
   "language": "python",
   "name": "python3"
  },
  "language_info": {
   "codemirror_mode": {
    "name": "ipython",
    "version": 3
   },
   "file_extension": ".py",
   "mimetype": "text/x-python",
   "name": "python",
   "nbconvert_exporter": "python",
   "pygments_lexer": "ipython3",
   "version": "3.9.5"
  }
 },
 "nbformat": 4,
 "nbformat_minor": 5
}
